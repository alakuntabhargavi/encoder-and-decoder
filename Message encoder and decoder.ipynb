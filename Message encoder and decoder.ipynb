{
 "cells": [
  {
   "cell_type": "code",
   "execution_count": 4,
   "id": "ad32926d",
   "metadata": {},
   "outputs": [],
   "source": [
    "#import necessary libraries\n",
    "from tkinter import *\n",
    "import base64"
   ]
  },
  {
   "cell_type": "code",
   "execution_count": 17,
   "id": "83e3f354",
   "metadata": {},
   "outputs": [],
   "source": [
    "#initialize the window\n",
    "root = Tk()\n",
    "root.geometry('500x300')\n",
    "root.resizable(0,0)\n",
    "root.title(\"Message Encoder and Decoder\")\n",
    "Label(root, text ='ENCODE DECODE', font = 'arial 20 bold').pack()\n",
    "\n",
    "Label(root, text ='DataFlair', font = 'arial 20 bold').pack(side =BOTTOM)"
   ]
  },
  {
   "cell_type": "code",
   "execution_count": 8,
   "id": "007248af",
   "metadata": {},
   "outputs": [],
   "source": [
    "#Defining variables\n",
    "Text = StringVar()\n",
    "private_key = StringVar()\n",
    "mode = StringVar()\n",
    "Result = StringVar()"
   ]
  },
  {
   "cell_type": "code",
   "execution_count": 10,
   "id": "2731d4ae",
   "metadata": {},
   "outputs": [],
   "source": [
    "#Encoding function\n",
    "def Encode(key,message):\n",
    "    enc=[]\n",
    "    for i in range(len(message)):\n",
    "        key_c = key[i % len(key)]\n",
    "        enc.append(chr((ord(message[i]) + ord(key_c)) % 256))\n",
    "    return base64.urlsafe_b64encode(\"\".join(enc).encode()).decode()"
   ]
  },
  {
   "cell_type": "code",
   "execution_count": 11,
   "id": "d5ed95f3",
   "metadata": {},
   "outputs": [],
   "source": [
    "#Decoding function\n",
    "def Decode(key,message):\n",
    "    dec=[]\n",
    "    message = base64.urlsafe_b64decode(message).decode()\n",
    "    for i in range(len(message)):\n",
    "        key_c = key[i % len(key)]\n",
    "        dec.append(chr((256 + ord(message[i])- ord(key_c)) % 256))\n",
    "    return \"\".join(dec)"
   ]
  },
  {
   "cell_type": "code",
   "execution_count": 12,
   "id": "ccf87477",
   "metadata": {},
   "outputs": [],
   "source": [
    "#select option to encode or decode\n",
    "def Mode():\n",
    "    if(mode.get() == 'e'):\n",
    "        Result.set(Encode(private_key.get(), Text.get()))\n",
    "    elif(mode.get() == 'd'):\n",
    "        Result.set(Decode(private_key.get(), Text.get()))\n",
    "    else:\n",
    "        Result.set('Invalid Mode')"
   ]
  },
  {
   "cell_type": "code",
   "execution_count": 13,
   "id": "cd4fa454",
   "metadata": {},
   "outputs": [],
   "source": [
    "#exit window\n",
    "def Exit():\n",
    "    root.destroy()"
   ]
  },
  {
   "cell_type": "code",
   "execution_count": 14,
   "id": "a8277435",
   "metadata": {},
   "outputs": [],
   "source": [
    "#reset function\n",
    "def Reset():\n",
    "    Text.set(\"\")\n",
    "    private_key.set(\"\")\n",
    "    mode.set(\"\")\n",
    "    Result.set(\"\")"
   ]
  },
  {
   "cell_type": "code",
   "execution_count": 15,
   "id": "a34f10e3",
   "metadata": {},
   "outputs": [],
   "source": [
    "#defining labels and buttons\n",
    "Label(root, font= 'arial 12 bold', text='MESSAGE').place(x= 60,y=60)\n",
    "Entry(root, font = 'arial 10', textvariable = Text, bg = 'ghost white').place(x=290, y = 60)\n",
    "Label(root, font = 'arial 12 bold', text ='KEY').place(x=60, y = 90)\n",
    "Entry(root, font = 'arial 10', textvariable = private_key , bg ='ghost white').place(x=290, y = 90)\n",
    "Label(root, font = 'arial 12 bold', text ='MODE(e-encode, d-decode)').place(x=60, y = 120)\n",
    "Entry(root, font = 'arial 10', textvariable = mode , bg= 'ghost white').place(x=290, y = 120)\n",
    "Entry(root, font = 'arial 10 bold', textvariable = Result, bg ='ghost white').place(x=290, y = 150)\n",
    "Button(root, font = 'arial 10 bold', text = 'RESULT'  ,padx =2,bg ='LightGray' ,command = Mode).place(x=60, y = 150)\n",
    "Button(root, font = 'arial 10 bold' ,text ='RESET' ,width =6, command = Reset,bg = 'LimeGreen', padx=2).place(x=80, y = 190)\n",
    "Button(root, font = 'arial 10 bold',text= 'EXIT' , width = 6, command = Exit,bg = 'OrangeRed', padx=2, pady=2).place(x=180, y = 190)\n",
    "root.mainloop()"
   ]
  },
  {
   "cell_type": "code",
   "execution_count": null,
   "id": "2b9e9ce5",
   "metadata": {},
   "outputs": [],
   "source": []
  }
 ],
 "metadata": {
  "kernelspec": {
   "display_name": "Python 3 (ipykernel)",
   "language": "python",
   "name": "python3"
  },
  "language_info": {
   "codemirror_mode": {
    "name": "ipython",
    "version": 3
   },
   "file_extension": ".py",
   "mimetype": "text/x-python",
   "name": "python",
   "nbconvert_exporter": "python",
   "pygments_lexer": "ipython3",
   "version": "3.11.4"
  }
 },
 "nbformat": 4,
 "nbformat_minor": 5
}
